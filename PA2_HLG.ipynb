{
 "cells": [
  {
   "cell_type": "markdown",
   "id": "bb6da8b7",
   "metadata": {},
   "source": [
    "# Hannah Garrett\n",
    "## Assignment 2 \n",
    "### CS 150-01\n"
   ]
  },
  {
   "cell_type": "markdown",
   "id": "26af8fa5",
   "metadata": {},
   "source": [
    "### Append:\n",
    "#### Used for adding elements to a list"
   ]
  },
  {
   "cell_type": "code",
   "execution_count": 14,
   "id": "ba566c16",
   "metadata": {},
   "outputs": [],
   "source": [
    "food=[]"
   ]
  },
  {
   "cell_type": "code",
   "execution_count": 15,
   "id": "94dea25e",
   "metadata": {},
   "outputs": [],
   "source": [
    "food.append('pizza')\n",
    "food.append('hamburger')\n",
    "food.append('broccoli')\n",
    "food.append('donut')\n",
    "food.append('sandwich')"
   ]
  },
  {
   "cell_type": "code",
   "execution_count": 16,
   "id": "fdea44cd",
   "metadata": {},
   "outputs": [
    {
     "data": {
      "text/plain": [
       "['pizza', 'hamburger', 'broccoli', 'donut', 'sandwich']"
      ]
     },
     "execution_count": 16,
     "metadata": {},
     "output_type": "execute_result"
    }
   ],
   "source": [
    "food"
   ]
  },
  {
   "cell_type": "markdown",
   "id": "0d742ccd",
   "metadata": {},
   "source": [
    "### Extend:\n",
    "#### Adds the elements of one list to the end of another list"
   ]
  },
  {
   "cell_type": "code",
   "execution_count": 5,
   "id": "a60cc20e",
   "metadata": {},
   "outputs": [],
   "source": [
    "numbers=[1,2,3,4]\n",
    "numbers_1=[5,6,7,8]\n",
    "numbers.extend(numbers_1)"
   ]
  },
  {
   "cell_type": "code",
   "execution_count": 6,
   "id": "ec35ae86",
   "metadata": {},
   "outputs": [
    {
     "name": "stdout",
     "output_type": "stream",
     "text": [
      "[1, 2, 3, 4, 5, 6, 7, 8]\n"
     ]
    }
   ],
   "source": [
    "print(numbers)"
   ]
  },
  {
   "cell_type": "markdown",
   "id": "668fa9c7",
   "metadata": {},
   "source": [
    "### Insert:\n",
    "#### Used to insert elements into a list - you can add elements inside a list"
   ]
  },
  {
   "cell_type": "code",
   "execution_count": 18,
   "id": "4ee2e0bd",
   "metadata": {},
   "outputs": [
    {
     "name": "stdout",
     "output_type": "stream",
     "text": [
      "['pizza', 'salad', 'salad', 'hamburger', 'broccoli', 'donut', 'sandwich']\n"
     ]
    }
   ],
   "source": [
    "food.insert(1,'salad')\n",
    "print(food)"
   ]
  },
  {
   "cell_type": "code",
   "execution_count": 20,
   "id": "2551ce39",
   "metadata": {},
   "outputs": [
    {
     "name": "stdout",
     "output_type": "stream",
     "text": [
      "['pizza', 'salad', 'salad', 'hamburger', 'eggs', 'broccoli', 'donut', 'sandwich']\n"
     ]
    }
   ],
   "source": [
    "food.insert(4,'eggs')\n",
    "print(food)"
   ]
  },
  {
   "cell_type": "markdown",
   "id": "03e6a0a0",
   "metadata": {},
   "source": [
    "### Remove:\n",
    "#### Removes items from a list"
   ]
  },
  {
   "cell_type": "code",
   "execution_count": 21,
   "id": "20220287",
   "metadata": {},
   "outputs": [
    {
     "name": "stdout",
     "output_type": "stream",
     "text": [
      "['salad', 'salad', 'hamburger', 'eggs', 'broccoli', 'sandwich']\n"
     ]
    }
   ],
   "source": [
    "food.remove('pizza')\n",
    "food.remove('donut')\n",
    "print(food)"
   ]
  },
  {
   "cell_type": "markdown",
   "id": "fa6d0852",
   "metadata": {},
   "source": [
    "### Count:\n",
    "#### Tells you the number of times an element appears in a list"
   ]
  },
  {
   "cell_type": "code",
   "execution_count": 24,
   "id": "0218e797",
   "metadata": {},
   "outputs": [
    {
     "data": {
      "text/plain": [
       "2"
      ]
     },
     "execution_count": 24,
     "metadata": {},
     "output_type": "execute_result"
    }
   ],
   "source": [
    "food.count('salad')"
   ]
  },
  {
   "cell_type": "code",
   "execution_count": 25,
   "id": "3e63b260",
   "metadata": {},
   "outputs": [
    {
     "data": {
      "text/plain": [
       "1"
      ]
     },
     "execution_count": 25,
     "metadata": {},
     "output_type": "execute_result"
    }
   ],
   "source": [
    "food.count('sandwich')"
   ]
  },
  {
   "cell_type": "markdown",
   "id": "948f6d28",
   "metadata": {},
   "source": [
    "### Index\n",
    "#### Shows the position of the element within the list"
   ]
  },
  {
   "cell_type": "code",
   "execution_count": 26,
   "id": "9a7891db",
   "metadata": {},
   "outputs": [
    {
     "data": {
      "text/plain": [
       "2"
      ]
     },
     "execution_count": 26,
     "metadata": {},
     "output_type": "execute_result"
    }
   ],
   "source": [
    "food.index('hamburger')"
   ]
  },
  {
   "cell_type": "markdown",
   "id": "8a1c5c0a",
   "metadata": {},
   "source": [
    "### Pop\n",
    "#### You can remove any item in any position in a list"
   ]
  },
  {
   "cell_type": "code",
   "execution_count": 27,
   "id": "ec4d82fe",
   "metadata": {},
   "outputs": [
    {
     "data": {
      "text/plain": [
       "'hamburger'"
      ]
     },
     "execution_count": 27,
     "metadata": {},
     "output_type": "execute_result"
    }
   ],
   "source": [
    "food.pop(2)"
   ]
  },
  {
   "cell_type": "code",
   "execution_count": 28,
   "id": "2f60353b",
   "metadata": {},
   "outputs": [
    {
     "name": "stdout",
     "output_type": "stream",
     "text": [
      "['salad', 'salad', 'eggs', 'broccoli', 'sandwich']\n"
     ]
    }
   ],
   "source": [
    "print(food)"
   ]
  },
  {
   "cell_type": "code",
   "execution_count": 29,
   "id": "63218c3f",
   "metadata": {},
   "outputs": [
    {
     "name": "stdout",
     "output_type": "stream",
     "text": [
      "['salad', 'eggs', 'broccoli', 'sandwich']\n"
     ]
    }
   ],
   "source": [
    "food.pop(1)\n",
    "print(food)"
   ]
  },
  {
   "cell_type": "markdown",
   "id": "36c7c184",
   "metadata": {},
   "source": [
    "### Sorted\n",
    "#### Puts elements in a list in alphabetical order temporarily"
   ]
  },
  {
   "cell_type": "code",
   "execution_count": 30,
   "id": "4384c312",
   "metadata": {},
   "outputs": [
    {
     "data": {
      "text/plain": [
       "['salad', 'eggs', 'broccoli', 'sandwich']"
      ]
     },
     "execution_count": 30,
     "metadata": {},
     "output_type": "execute_result"
    }
   ],
   "source": [
    "food"
   ]
  },
  {
   "cell_type": "code",
   "execution_count": 31,
   "id": "58680486",
   "metadata": {},
   "outputs": [
    {
     "data": {
      "text/plain": [
       "['broccoli', 'eggs', 'salad', 'sandwich']"
      ]
     },
     "execution_count": 31,
     "metadata": {},
     "output_type": "execute_result"
    }
   ],
   "source": [
    "sorted(food)"
   ]
  },
  {
   "cell_type": "code",
   "execution_count": 32,
   "id": "9fa738c8",
   "metadata": {},
   "outputs": [
    {
     "data": {
      "text/plain": [
       "['salad', 'eggs', 'broccoli', 'sandwich']"
      ]
     },
     "execution_count": 32,
     "metadata": {},
     "output_type": "execute_result"
    }
   ],
   "source": [
    "food"
   ]
  },
  {
   "cell_type": "markdown",
   "id": "4b378fec",
   "metadata": {},
   "source": [
    "### Copy\n",
    "#### You can copy a list under a new name"
   ]
  },
  {
   "cell_type": "code",
   "execution_count": 33,
   "id": "6613a78f",
   "metadata": {},
   "outputs": [
    {
     "data": {
      "text/plain": [
       "['salad', 'eggs', 'broccoli', 'sandwich']"
      ]
     },
     "execution_count": 33,
     "metadata": {},
     "output_type": "execute_result"
    }
   ],
   "source": [
    "food"
   ]
  },
  {
   "cell_type": "code",
   "execution_count": 34,
   "id": "ff7eee3a",
   "metadata": {},
   "outputs": [],
   "source": [
    "favorite_foods=food.copy()"
   ]
  },
  {
   "cell_type": "code",
   "execution_count": 35,
   "id": "b7e3e4c3",
   "metadata": {},
   "outputs": [
    {
     "data": {
      "text/plain": [
       "['salad', 'eggs', 'broccoli', 'sandwich']"
      ]
     },
     "execution_count": 35,
     "metadata": {},
     "output_type": "execute_result"
    }
   ],
   "source": [
    "favorite_foods"
   ]
  },
  {
   "cell_type": "markdown",
   "id": "cecc98f0",
   "metadata": {},
   "source": [
    "### Clear \n",
    "#### Removes all elements from a list"
   ]
  },
  {
   "cell_type": "code",
   "execution_count": 36,
   "id": "84140e1b",
   "metadata": {},
   "outputs": [
    {
     "data": {
      "text/plain": [
       "['salad', 'eggs', 'broccoli', 'sandwich']"
      ]
     },
     "execution_count": 36,
     "metadata": {},
     "output_type": "execute_result"
    }
   ],
   "source": [
    "food"
   ]
  },
  {
   "cell_type": "code",
   "execution_count": 37,
   "id": "526fd09a",
   "metadata": {},
   "outputs": [],
   "source": [
    "food.clear()"
   ]
  },
  {
   "cell_type": "code",
   "execution_count": 38,
   "id": "1b9c9be3",
   "metadata": {},
   "outputs": [
    {
     "data": {
      "text/plain": [
       "[]"
      ]
     },
     "execution_count": 38,
     "metadata": {},
     "output_type": "execute_result"
    }
   ],
   "source": [
    "food"
   ]
  },
  {
   "cell_type": "markdown",
   "id": "cec25202",
   "metadata": {},
   "source": [
    "### List \n",
    "#### Creates a new list"
   ]
  },
  {
   "cell_type": "code",
   "execution_count": 40,
   "id": "470c4b3f",
   "metadata": {},
   "outputs": [
    {
     "name": "stdout",
     "output_type": "stream",
     "text": [
      "['a', 'b', 'c', 'd', 'e']\n"
     ]
    }
   ],
   "source": [
    "letters=list('abcde')\n",
    "print(letters)"
   ]
  },
  {
   "cell_type": "markdown",
   "id": "bc6b3f6f",
   "metadata": {},
   "source": [
    "### len()\n",
    "#### Finds the length of a list"
   ]
  },
  {
   "cell_type": "code",
   "execution_count": 42,
   "id": "dbb50e8f",
   "metadata": {},
   "outputs": [
    {
     "data": {
      "text/plain": [
       "5"
      ]
     },
     "execution_count": 42,
     "metadata": {},
     "output_type": "execute_result"
    }
   ],
   "source": [
    "len(letters)"
   ]
  },
  {
   "cell_type": "markdown",
   "id": "fefc4d7c",
   "metadata": {},
   "source": [
    "### max()\n",
    "#### Tells you the element of the list with the maximum value"
   ]
  },
  {
   "cell_type": "code",
   "execution_count": 45,
   "id": "58061340",
   "metadata": {},
   "outputs": [],
   "source": [
    "names=['Ally', 'shane', 'peter', 'Nathan', 'mark']"
   ]
  },
  {
   "cell_type": "code",
   "execution_count": 46,
   "id": "70aa63e6",
   "metadata": {},
   "outputs": [
    {
     "data": {
      "text/plain": [
       "'shane'"
      ]
     },
     "execution_count": 46,
     "metadata": {},
     "output_type": "execute_result"
    }
   ],
   "source": [
    "max(names)"
   ]
  },
  {
   "cell_type": "markdown",
   "id": "a6057bc5",
   "metadata": {},
   "source": [
    "### min()\n",
    "#### Tells you the element of the list with the minimum value"
   ]
  },
  {
   "cell_type": "code",
   "execution_count": 47,
   "id": "3351dc3f",
   "metadata": {},
   "outputs": [
    {
     "data": {
      "text/plain": [
       "'Ally'"
      ]
     },
     "execution_count": 47,
     "metadata": {},
     "output_type": "execute_result"
    }
   ],
   "source": [
    "min(names)"
   ]
  },
  {
   "cell_type": "code",
   "execution_count": null,
   "id": "b37f8deb",
   "metadata": {},
   "outputs": [],
   "source": []
  }
 ],
 "metadata": {
  "kernelspec": {
   "display_name": "Python 3 (ipykernel)",
   "language": "python",
   "name": "python3"
  },
  "language_info": {
   "codemirror_mode": {
    "name": "ipython",
    "version": 3
   },
   "file_extension": ".py",
   "mimetype": "text/x-python",
   "name": "python",
   "nbconvert_exporter": "python",
   "pygments_lexer": "ipython3",
   "version": "3.9.12"
  }
 },
 "nbformat": 4,
 "nbformat_minor": 5
}
